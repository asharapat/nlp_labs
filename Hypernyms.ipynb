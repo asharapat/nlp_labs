{
  "nbformat": 4,
  "nbformat_minor": 0,
  "metadata": {
    "kernelspec": {
      "display_name": "Python 3",
      "language": "python",
      "name": "python3"
    },
    "language_info": {
      "codemirror_mode": {
        "name": "ipython",
        "version": 3
      },
      "file_extension": ".py",
      "mimetype": "text/x-python",
      "name": "python",
      "nbconvert_exporter": "python",
      "pygments_lexer": "ipython3",
      "version": "3.6.7"
    },
    "colab": {
      "name": "Hypernyms.ipynb",
      "provenance": [],
      "toc_visible": true,
      "include_colab_link": true
    },
    "widgets": {
      "application/vnd.jupyter.widget-state+json": {
        "764483209c1d436990447bdc1f6bb295": {
          "model_module": "@jupyter-widgets/controls",
          "model_name": "ButtonModel",
          "state": {
            "_view_name": "ButtonView",
            "style": "IPY_MODEL_cc6d58fa808f403e901525bb3526da55",
            "_dom_classes": [],
            "description": "Draw",
            "_model_name": "ButtonModel",
            "button_style": "",
            "_view_module": "@jupyter-widgets/controls",
            "_model_module_version": "1.5.0",
            "tooltip": "",
            "_view_count": null,
            "disabled": false,
            "_view_module_version": "1.5.0",
            "layout": "IPY_MODEL_a72b3f89099b43cd887e59bbe122ef08",
            "_model_module": "@jupyter-widgets/controls",
            "icon": ""
          }
        },
        "cc6d58fa808f403e901525bb3526da55": {
          "model_module": "@jupyter-widgets/controls",
          "model_name": "ButtonStyleModel",
          "state": {
            "_view_name": "StyleView",
            "_model_name": "ButtonStyleModel",
            "_view_module": "@jupyter-widgets/base",
            "_model_module_version": "1.5.0",
            "_view_count": null,
            "button_color": null,
            "font_weight": "",
            "_view_module_version": "1.2.0",
            "_model_module": "@jupyter-widgets/controls"
          }
        },
        "a72b3f89099b43cd887e59bbe122ef08": {
          "model_module": "@jupyter-widgets/base",
          "model_name": "LayoutModel",
          "state": {
            "_view_name": "LayoutView",
            "grid_template_rows": null,
            "right": null,
            "justify_content": null,
            "_view_module": "@jupyter-widgets/base",
            "overflow": null,
            "_model_module_version": "1.2.0",
            "_view_count": null,
            "flex_flow": null,
            "width": null,
            "min_width": null,
            "border": null,
            "align_items": null,
            "bottom": null,
            "_model_module": "@jupyter-widgets/base",
            "top": null,
            "grid_column": null,
            "overflow_y": null,
            "overflow_x": null,
            "grid_auto_flow": null,
            "grid_area": null,
            "grid_template_columns": null,
            "flex": null,
            "_model_name": "LayoutModel",
            "justify_items": null,
            "grid_row": null,
            "max_height": null,
            "align_content": null,
            "visibility": null,
            "align_self": null,
            "height": null,
            "min_height": null,
            "padding": null,
            "grid_auto_rows": null,
            "grid_gap": null,
            "max_width": null,
            "order": null,
            "_view_module_version": "1.2.0",
            "grid_template_areas": null,
            "object_position": null,
            "object_fit": null,
            "grid_auto_columns": null,
            "margin": null,
            "display": null,
            "left": null
          }
        },
        "0cc51a6aa6194159a5f791c173e2c4a4": {
          "model_module": "@jupyter-widgets/controls",
          "model_name": "TextModel",
          "state": {
            "_view_name": "TextView",
            "style": "IPY_MODEL_8658c5a7039745eabc23d1bf1d37fe1a",
            "_dom_classes": [],
            "description": "String:",
            "_model_name": "TextModel",
            "placeholder": "Query",
            "_view_module": "@jupyter-widgets/controls",
            "_model_module_version": "1.5.0",
            "value": "МАТЬ",
            "_view_count": null,
            "disabled": false,
            "_view_module_version": "1.5.0",
            "continuous_update": true,
            "description_tooltip": null,
            "_model_module": "@jupyter-widgets/controls",
            "layout": "IPY_MODEL_6886d2f7af6d4261bfda5d5d015eb95b"
          }
        },
        "8658c5a7039745eabc23d1bf1d37fe1a": {
          "model_module": "@jupyter-widgets/controls",
          "model_name": "DescriptionStyleModel",
          "state": {
            "_view_name": "StyleView",
            "_model_name": "DescriptionStyleModel",
            "description_width": "",
            "_view_module": "@jupyter-widgets/base",
            "_model_module_version": "1.5.0",
            "_view_count": null,
            "_view_module_version": "1.2.0",
            "_model_module": "@jupyter-widgets/controls"
          }
        },
        "6886d2f7af6d4261bfda5d5d015eb95b": {
          "model_module": "@jupyter-widgets/base",
          "model_name": "LayoutModel",
          "state": {
            "_view_name": "LayoutView",
            "grid_template_rows": null,
            "right": null,
            "justify_content": null,
            "_view_module": "@jupyter-widgets/base",
            "overflow": null,
            "_model_module_version": "1.2.0",
            "_view_count": null,
            "flex_flow": null,
            "width": null,
            "min_width": null,
            "border": null,
            "align_items": null,
            "bottom": null,
            "_model_module": "@jupyter-widgets/base",
            "top": null,
            "grid_column": null,
            "overflow_y": null,
            "overflow_x": null,
            "grid_auto_flow": null,
            "grid_area": null,
            "grid_template_columns": null,
            "flex": null,
            "_model_name": "LayoutModel",
            "justify_items": null,
            "grid_row": null,
            "max_height": null,
            "align_content": null,
            "visibility": null,
            "align_self": null,
            "height": null,
            "min_height": null,
            "padding": null,
            "grid_auto_rows": null,
            "grid_gap": null,
            "max_width": null,
            "order": null,
            "_view_module_version": "1.2.0",
            "grid_template_areas": null,
            "object_position": null,
            "object_fit": null,
            "grid_auto_columns": null,
            "margin": null,
            "display": null,
            "left": null
          }
        }
      }
    }
  },
  "cells": [
    {
      "cell_type": "markdown",
      "metadata": {
        "id": "view-in-github",
        "colab_type": "text"
      },
      "source": [
        "<a href=\"https://colab.research.google.com/github/nurbekzhussip/nlp_labs/blob/master/Hypernyms.ipynb\" target=\"_parent\"><img src=\"https://colab.research.google.com/assets/colab-badge.svg\" alt=\"Open In Colab\"/></a>"
      ]
    },
    {
      "cell_type": "markdown",
      "metadata": {
        "ExecuteTime": {
          "end_time": "2020-02-12T17:56:22.948195Z",
          "start_time": "2020-02-12T17:56:22.944176Z"
        },
        "id": "nMfgpyFF7_k5",
        "colab_type": "text"
      },
      "source": [
        "### Lab 2: Hyponyms and Hypernyms"
      ]
    },
    {
      "cell_type": "code",
      "metadata": {
        "ExecuteTime": {
          "end_time": "2020-02-12T14:12:16.470920Z",
          "start_time": "2020-02-12T14:12:15.640262Z"
        },
        "id": "tB_UIJPK7_k8",
        "colab_type": "code",
        "colab": {
          "base_uri": "https://localhost:8080/",
          "height": 153
        },
        "outputId": "7a13c681-9fef-4a6f-d6ef-a009390908ef"
      },
      "source": [
        "!pip install wikipedia\n",
        "\n",
        "import pandas as pd\n",
        "import wikipedia\n",
        "import os\n",
        "from tqdm import tqdm\n",
        "from joblib import Parallel, delayed\n",
        "import multiprocessing\n",
        "import networkx as nx\n",
        "import matplotlib.pyplot as plt\n",
        "from collections import defaultdict\n",
        "from ipywidgets import interact, interactive, fixed, interact_manual,widgets\n",
        "from IPython.display import display\n",
        "import json\n",
        "num_cores = multiprocessing.cpu_count()\n",
        "print(num_cores)\n",
        "wikipedia.set_lang(\"ru\")\n",
        "# DATA_PATH_LIST = ['D:','src2','taxonomy-enrichment','data','training_data']\n",
        "DATA_PATH_LIST = ['.']\n",
        "EMBEDDING_MODEL_FILENAME = \"wiki_node2vec.bin\"\n",
        "DATA_PATH=\"/\".join(DATA_PATH_LIST+[\"../content/training_nouns.tsv\"])\n",
        "df = pd.read_csv(DATA_PATH,sep='\\t')\n",
        "%matplotlib inline"
      ],
      "execution_count": 4,
      "outputs": [
        {
          "output_type": "stream",
          "text": [
            "Requirement already satisfied: wikipedia in /usr/local/lib/python3.6/dist-packages (1.4.0)\n",
            "Requirement already satisfied: beautifulsoup4 in /usr/local/lib/python3.6/dist-packages (from wikipedia) (4.6.3)\n",
            "Requirement already satisfied: requests<3.0.0,>=2.0.0 in /usr/local/lib/python3.6/dist-packages (from wikipedia) (2.21.0)\n",
            "Requirement already satisfied: urllib3<1.25,>=1.21.1 in /usr/local/lib/python3.6/dist-packages (from requests<3.0.0,>=2.0.0->wikipedia) (1.24.3)\n",
            "Requirement already satisfied: chardet<3.1.0,>=3.0.2 in /usr/local/lib/python3.6/dist-packages (from requests<3.0.0,>=2.0.0->wikipedia) (3.0.4)\n",
            "Requirement already satisfied: certifi>=2017.4.17 in /usr/local/lib/python3.6/dist-packages (from requests<3.0.0,>=2.0.0->wikipedia) (2019.11.28)\n",
            "Requirement already satisfied: idna<2.9,>=2.5 in /usr/local/lib/python3.6/dist-packages (from requests<3.0.0,>=2.0.0->wikipedia) (2.8)\n",
            "2\n"
          ],
          "name": "stdout"
        }
      ]
    },
    {
      "cell_type": "code",
      "metadata": {
        "ExecuteTime": {
          "end_time": "2020-02-12T14:12:16.475780Z",
          "start_time": "2020-02-12T14:12:16.473114Z"
        },
        "id": "773HQdnJ7_lD",
        "colab_type": "code",
        "colab": {}
      },
      "source": [
        "def prestr(x):\n",
        "    return str(x).replace('\\\"','').replace(\"'\",'\"')"
      ],
      "execution_count": 0,
      "outputs": []
    },
    {
      "cell_type": "code",
      "metadata": {
        "ExecuteTime": {
          "end_time": "2020-02-12T14:12:16.685506Z",
          "start_time": "2020-02-12T14:12:16.477634Z"
        },
        "id": "bug6JpYy7_lH",
        "colab_type": "code",
        "colab": {}
      },
      "source": [
        "class DefDict(defaultdict):\n",
        "    def __missing__(self, key):\n",
        "        self[key] = key\n",
        "        return key\n",
        "    \n",
        "idx2syns = DefDict(lambda x:x)\n",
        "for val in df.values:\n",
        "    idx2syns[val[0]]=val[1]\n",
        "    try:\n",
        "        pidxs = json.loads(prestr(val[2]))\n",
        "        concp = [el.split(\",\")[0] for el in json.loads(prestr(val[3]))]\n",
        "        idx2syns.update(dict(zip(pidxs,concp)))\n",
        "    except:\n",
        "        print(prestr(val[2]))\n",
        "        print(prestr(val[3]))"
      ],
      "execution_count": 0,
      "outputs": []
    },
    {
      "cell_type": "markdown",
      "metadata": {
        "ExecuteTime": {
          "end_time": "2020-02-12T17:12:34.060220Z",
          "start_time": "2020-02-12T17:12:34.055235Z"
        },
        "id": "SDtlpnZh7_lL",
        "colab_type": "text"
      },
      "source": [
        "### Interactive visualization of hyponyms and hypernyms"
      ]
    },
    {
      "cell_type": "code",
      "metadata": {
        "ExecuteTime": {
          "end_time": "2020-02-12T17:11:37.966489Z",
          "start_time": "2020-02-12T17:11:37.931688Z"
        },
        "id": "OInnql7V7_lM",
        "colab_type": "code",
        "colab": {
          "base_uri": "https://localhost:8080/",
          "height": 271,
          "referenced_widgets": [
            "764483209c1d436990447bdc1f6bb295",
            "cc6d58fa808f403e901525bb3526da55",
            "a72b3f89099b43cd887e59bbe122ef08",
            "0cc51a6aa6194159a5f791c173e2c4a4",
            "8658c5a7039745eabc23d1bf1d37fe1a",
            "6886d2f7af6d4261bfda5d5d015eb95b"
          ]
        },
        "outputId": "f86fd7d7-5836-44ce-d837-d74f66559393"
      },
      "source": [
        "!pip install pygraphviz\n",
        "\n",
        "button = widgets.Button(description=\"Draw\")\n",
        "query = widgets.Text(\n",
        "    value='МАТЬ',\n",
        "    placeholder='Query',\n",
        "    description='String:',\n",
        "    disabled=False\n",
        ")\n",
        "display(button,query)\n",
        "\n",
        "\n",
        "\n",
        "\n",
        "def creategraph(df):\n",
        "    res = []\n",
        "    for row in df.values:\n",
        "        cohyps = row[1].split(\",\")\n",
        "        for idx,cohyp in enumerate(cohyps):\n",
        "            for parent in json.loads(prestr(row[2])):\n",
        "                res.append((row[0]+'-'+str(idx),parent))\n",
        "    return res\n",
        "\n",
        "def graphdraw(b):\n",
        "    print(\"graphdraw\",query.value)\n",
        "    subset = df[df['TEXT'].str.contains(query.value.upper())]\n",
        "    g = nx.DiGraph()\n",
        "    for el in subset.values:\n",
        "        cohyps = el[1].split(\",\")\n",
        "        print(cohyps)\n",
        "        syns = idx2syns[el[0]]\n",
        "        for child in cohyps:\n",
        "            for parent in json.loads(prestr(el[2])):\n",
        "                ed = g.add_edge(child,idx2syns[parent],label=\"is a\")\n",
        "            \n",
        "    plt.figure(figsize=(15,15))\n",
        "    pos = nx.nx_agraph.graphviz_layout(g)\n",
        "    nx.draw(g,with_labels=True,pos=pos)\n",
        "#     edge_labels=nx.draw_networkx_edge_labels(g,pos=pos)\n",
        "    plt.show()\n",
        "button.on_click(graphdraw)"
      ],
      "execution_count": 10,
      "outputs": [
        {
          "output_type": "stream",
          "text": [
            "Collecting pygraphviz\n",
            "  Using cached https://files.pythonhosted.org/packages/7e/b1/d6d849ddaf6f11036f9980d433f383d4c13d1ebcfc3cd09bc845bda7e433/pygraphviz-1.5.zip\n",
            "Building wheels for collected packages: pygraphviz\n",
            "  Building wheel for pygraphviz (setup.py) ... \u001b[?25lerror\n",
            "\u001b[31m  ERROR: Failed building wheel for pygraphviz\u001b[0m\n",
            "\u001b[?25h  Running setup.py clean for pygraphviz\n",
            "Failed to build pygraphviz\n",
            "Installing collected packages: pygraphviz\n",
            "    Running setup.py install for pygraphviz ... \u001b[?25l\u001b[?25herror\n",
            "\u001b[31mERROR: Command errored out with exit status 1: /usr/bin/python3 -u -c 'import sys, setuptools, tokenize; sys.argv[0] = '\"'\"'/tmp/pip-install-nblon211/pygraphviz/setup.py'\"'\"'; __file__='\"'\"'/tmp/pip-install-nblon211/pygraphviz/setup.py'\"'\"';f=getattr(tokenize, '\"'\"'open'\"'\"', open)(__file__);code=f.read().replace('\"'\"'\\r\\n'\"'\"', '\"'\"'\\n'\"'\"');f.close();exec(compile(code, __file__, '\"'\"'exec'\"'\"'))' install --record /tmp/pip-record-wl5d5w_r/install-record.txt --single-version-externally-managed --compile Check the logs for full command output.\u001b[0m\n"
          ],
          "name": "stdout"
        },
        {
          "output_type": "display_data",
          "data": {
            "application/vnd.jupyter.widget-view+json": {
              "model_id": "764483209c1d436990447bdc1f6bb295",
              "version_minor": 0,
              "version_major": 2
            },
            "text/plain": [
              "Button(description='Draw', style=ButtonStyle())"
            ]
          },
          "metadata": {
            "tags": []
          }
        },
        {
          "output_type": "display_data",
          "data": {
            "application/vnd.jupyter.widget-view+json": {
              "model_id": "0cc51a6aa6194159a5f791c173e2c4a4",
              "version_minor": 0,
              "version_major": 2
            },
            "text/plain": [
              "Text(value='МАТЬ', description='String:', placeholder='Query')"
            ]
          },
          "metadata": {
            "tags": []
          }
        }
      ]
    },
    {
      "cell_type": "markdown",
      "metadata": {
        "ExecuteTime": {
          "end_time": "2020-02-12T11:38:20.619158Z",
          "start_time": "2020-02-12T11:38:20.614734Z"
        },
        "id": "UhMVURbL7_lQ",
        "colab_type": "text"
      },
      "source": [
        "### Pattern extractor\n",
        "\n",
        "Yargy — библиотека для извлечения структурированной информации из текстов на русском языке. Правила описываются контекстно-свободными грамматиками и словарями ключевых слов. Банк готовых правил для имён, дат, адресов и других сущностей доступен в репозитории Natasha.\n",
        "* https://yargy.readthedocs.io/ru/latest/\n",
        "* http://pymorphy2.readthedocs.io/en/latest/user/grammemes.html\n",
        "* https://github.com/natasha/natasha"
      ]
    },
    {
      "cell_type": "markdown",
      "metadata": {
        "ExecuteTime": {
          "start_time": "2020-02-12T13:09:50.486Z"
        },
        "id": "d0wFxHPz7_lR",
        "colab_type": "text"
      },
      "source": [
        "### Токенизатор"
      ]
    },
    {
      "cell_type": "code",
      "metadata": {
        "ExecuteTime": {
          "end_time": "2020-02-12T14:12:16.819980Z",
          "start_time": "2020-02-12T14:12:16.708109Z"
        },
        "id": "oR_UOTsi7_lS",
        "colab_type": "code",
        "colab": {
          "base_uri": "https://localhost:8080/",
          "height": 411
        },
        "outputId": "bd1137cd-1249-4973-fe3b-9ff0f2621440"
      },
      "source": [
        "!pip install yargy\n",
        "\n",
        "from yargy.tokenizer import MorphTokenizer\n",
        "\n",
        "\n",
        "tokenizer = MorphTokenizer()\n",
        "text = '''Ростов-на-Дону\n",
        "Длительностью 18ч. 10мин.\n",
        "Яндекс.Такси\n",
        "π ≈ 3.1415\n",
        "1 500 000$\n",
        "http://vk.com\n",
        "'''\n",
        "for line in text.splitlines():\n",
        "    print([_.value for _ in tokenizer(line)])"
      ],
      "execution_count": 12,
      "outputs": [
        {
          "output_type": "stream",
          "text": [
            "Collecting yargy\n",
            "\u001b[?25l  Downloading https://files.pythonhosted.org/packages/37/64/d6abf637228bed6b0249b522f588d19dca9f09ab65db13bef41096f51889/yargy-0.12.0-py2.py3-none-any.whl (41kB)\n",
            "\u001b[K     |████████████████████████████████| 51kB 2.2MB/s \n",
            "\u001b[?25hCollecting pymorphy2==0.8\n",
            "\u001b[?25l  Downloading https://files.pythonhosted.org/packages/a3/33/fff9675c68b5f6c63ec8c6e6ff57827dda28a1fa5b2c2d727dffff92dd47/pymorphy2-0.8-py2.py3-none-any.whl (46kB)\n",
            "\u001b[K     |████████████████████████████████| 51kB 4.3MB/s \n",
            "\u001b[?25hCollecting backports.functools-lru-cache==1.3\n",
            "  Downloading https://files.pythonhosted.org/packages/d4/40/0b1db94fdfd71353ae67ec444ff28e0a7ecc25212d1cb94c291b6cd226f9/backports.functools_lru_cache-1.3-py2.py3-none-any.whl\n",
            "Collecting pymorphy2-dicts<3.0,>=2.4\n",
            "\u001b[?25l  Downloading https://files.pythonhosted.org/packages/02/51/2465fd4f72328ab50877b54777764d928da8cb15b74e2680fc1bd8cb3173/pymorphy2_dicts-2.4.393442.3710985-py2.py3-none-any.whl (7.1MB)\n",
            "\u001b[K     |████████████████████████████████| 7.1MB 5.4MB/s \n",
            "\u001b[?25hCollecting dawg-python>=0.7\n",
            "  Downloading https://files.pythonhosted.org/packages/6a/84/ff1ce2071d4c650ec85745766c0047ccc3b5036f1d03559fd46bb38b5eeb/DAWG_Python-0.7.2-py2.py3-none-any.whl\n",
            "Requirement already satisfied: docopt>=0.6 in /usr/local/lib/python3.6/dist-packages (from pymorphy2==0.8->yargy) (0.6.2)\n",
            "Installing collected packages: pymorphy2-dicts, dawg-python, pymorphy2, backports.functools-lru-cache, yargy\n",
            "Successfully installed backports.functools-lru-cache-1.3 dawg-python-0.7.2 pymorphy2-0.8 pymorphy2-dicts-2.4.393442.3710985 yargy-0.12.0\n",
            "['Ростов', '-', 'на', '-', 'Дону']\n",
            "['Длительностью', '18', 'ч', '.', '10', 'мин', '.']\n",
            "['Яндекс', '.', 'Такси']\n",
            "['π', '≈', '3', '.', '1415']\n",
            "['1', '500', '000', '$']\n",
            "['http', ':', '/', '/', 'vk', '.', 'com']\n"
          ],
          "name": "stdout"
        }
      ]
    },
    {
      "cell_type": "markdown",
      "metadata": {
        "ExecuteTime": {
          "end_time": "2020-02-12T13:11:56.582467Z",
          "start_time": "2020-02-12T13:11:56.566175Z"
        },
        "id": "PQj9PtDU7_lY",
        "colab_type": "text"
      },
      "source": [
        "# Газеттир\n",
        "Газеттир нужен для удобной работы с последовательностью слов. Например, можно написать:"
      ]
    },
    {
      "cell_type": "code",
      "metadata": {
        "ExecuteTime": {
          "end_time": "2020-02-12T14:12:16.844412Z",
          "start_time": "2020-02-12T14:12:16.821582Z"
        },
        "id": "XQB81Cs37_lZ",
        "colab_type": "code",
        "colab": {}
      },
      "source": [
        "from yargy import or_, rule\n",
        "from yargy.predicates import normalized\n",
        "\n",
        "RULE = or_(\n",
        "    rule(normalized('dvd'), '-', normalized('диск')),\n",
        "    rule(normalized('видео'), normalized('файл'))\n",
        ")"
      ],
      "execution_count": 0,
      "outputs": []
    },
    {
      "cell_type": "code",
      "metadata": {
        "ExecuteTime": {
          "end_time": "2020-02-12T14:12:16.968622Z",
          "start_time": "2020-02-12T14:12:16.846737Z"
        },
        "id": "GiOQ7fBF7_ld",
        "colab_type": "code",
        "colab": {
          "base_uri": "https://localhost:8080/",
          "height": 51
        },
        "outputId": "0b68225f-69ac-4f3c-a9f0-844afe72d62e"
      },
      "source": [
        "from yargy import Parser\n",
        "from yargy.pipelines import morph_pipeline\n",
        "\n",
        "\n",
        "RULE = morph_pipeline([\n",
        "    'dvd-диск',\n",
        "    'видео файл',\n",
        "    'видеофильм',\n",
        "    'газета',\n",
        "    'электронный дневник',\n",
        "    'эссе',\n",
        "])\n",
        "\n",
        "parser = Parser(RULE)\n",
        "text = 'Видео файл на dvd-диске'\n",
        "for match in parser.findall(text):\n",
        "    print([_.value for _ in match.tokens])"
      ],
      "execution_count": 14,
      "outputs": [
        {
          "output_type": "stream",
          "text": [
            "['Видео', 'файл']\n",
            "['dvd', '-', 'диске']\n"
          ],
          "name": "stdout"
        }
      ]
    },
    {
      "cell_type": "code",
      "metadata": {
        "ExecuteTime": {
          "end_time": "2020-02-12T14:12:54.576104Z",
          "start_time": "2020-02-12T14:12:54.511149Z"
        },
        "id": "sX1Vnaie7_lh",
        "colab_type": "code",
        "colab": {
          "base_uri": "https://localhost:8080/",
          "height": 51
        },
        "outputId": "2d7de719-5397-4f0a-b8ad-d482794b098e"
      },
      "source": [
        "from yargy import Parser, rule, and_\n",
        "from yargy.predicates import gram, is_capitalized, dictionary\n",
        "\n",
        "\n",
        "GEO = rule(\n",
        "    and_(\n",
        "        gram('ADJF'),  # так помечается прилагательное, остальные пометки описаны в\n",
        "                       # http://pymorphy2.readthedocs.io/en/latest/user/grammemes.html\n",
        "        is_capitalized()\n",
        "    ),\n",
        "    gram('ADJF').optional().repeatable(),\n",
        "    dictionary({\n",
        "        'федерация',\n",
        "        'республика'\n",
        "    })\n",
        ")\n",
        "\n",
        "\n",
        "parser = Parser(GEO)\n",
        "text = '''\n",
        "В Чеченской республике на день рождения ...\n",
        "Донецкая народная республика провозгласила ...\n",
        "Башня Федерация — одна из самых высоких ...\n",
        "'''\n",
        "for match in parser.findall(text):\n",
        "    print([_.value for _ in match.tokens])"
      ],
      "execution_count": 15,
      "outputs": [
        {
          "output_type": "stream",
          "text": [
            "['Чеченской', 'республике']\n",
            "['Донецкая', 'народная', 'республика']\n"
          ],
          "name": "stdout"
        }
      ]
    },
    {
      "cell_type": "markdown",
      "metadata": {
        "ExecuteTime": {
          "end_time": "2020-02-12T13:13:57.167613Z",
          "start_time": "2020-02-12T13:13:57.159920Z"
        },
        "id": "HGKphEtP7_ll",
        "colab_type": "text"
      },
      "source": [
        "### Предикаты\n",
        "\n",
        "Предикат — функция, которая принимает на вход токен и возвращает True или False. В Yargy встроено много готовых предикатов. Полный список есть в справочнике. Предикаты комбинируются с помощью and_, or_ и not_."
      ]
    },
    {
      "cell_type": "code",
      "metadata": {
        "ExecuteTime": {
          "end_time": "2020-02-12T14:12:17.173350Z",
          "start_time": "2020-02-12T14:12:17.136108Z"
        },
        "id": "AUL2jqMK7_lm",
        "colab_type": "code",
        "colab": {
          "base_uri": "https://localhost:8080/",
          "height": 51
        },
        "outputId": "bc2555c4-6805-4d58-8aa0-ec931c652977"
      },
      "source": [
        "from yargy import and_, not_\n",
        "from yargy.tokenizer import MorphTokenizer\n",
        "from yargy.predicates import is_capitalized, eq\n",
        "\n",
        "\n",
        "tokenizer = MorphTokenizer()\n",
        "token = next(tokenizer('Стали'))\n",
        "\n",
        "predicate = is_capitalized()\n",
        "print(predicate(token))\n",
        "\n",
        "predicate = and_(\n",
        "    is_capitalized(),\n",
        "    not_(eq('марки'))\n",
        ")\n",
        "print(predicate(token))"
      ],
      "execution_count": 16,
      "outputs": [
        {
          "output_type": "stream",
          "text": [
            "True\n",
            "True\n"
          ],
          "name": "stdout"
        }
      ]
    },
    {
      "cell_type": "markdown",
      "metadata": {
        "ExecuteTime": {
          "end_time": "2020-02-12T13:15:56.600763Z",
          "start_time": "2020-02-12T13:15:56.596609Z"
        },
        "id": "2AFLopEw7_lq",
        "colab_type": "text"
      },
      "source": [
        "### Грамматики\n",
        "В Yargy используется специальный DSL для описания грамматик. Любую контекстно-свободную грамматику можно описать с помощью конструкций Питона. Например, есть примитивная грамматика для размеров одежды:\n",
        "\n",
        "KEY -> р. | размер\n",
        "\n",
        "VALUE -> S | M | L\n",
        "\n",
        "SIZE -> KEY VALUE\n",
        "\n"
      ]
    },
    {
      "cell_type": "code",
      "metadata": {
        "ExecuteTime": {
          "end_time": "2020-02-12T14:14:21.602988Z",
          "start_time": "2020-02-12T14:14:21.589310Z"
        },
        "id": "lq3zyERj7_ls",
        "colab_type": "code",
        "colab": {
          "base_uri": "https://localhost:8080/",
          "height": 68
        },
        "outputId": "11325d25-e6d8-4c41-aaf9-20474932c598"
      },
      "source": [
        "from yargy import rule, or_\n",
        "\n",
        "\n",
        "KEY = or_(\n",
        "    rule('р', '.'),\n",
        "    rule('размер')\n",
        ").named('KEY')\n",
        "VALUE = or_(\n",
        "    rule('S'),\n",
        "    rule('M'),\n",
        "    rule('L'),\n",
        "    rule('XS'),\n",
        ").named('VALUE')\n",
        "SIZE = rule(\n",
        "    KEY,\n",
        "    VALUE\n",
        ").named('SIZE')\n",
        "SIZE.normalized.as_bnf"
      ],
      "execution_count": 17,
      "outputs": [
        {
          "output_type": "execute_result",
          "data": {
            "text/plain": [
              "SIZE -> KEY VALUE\n",
              "KEY -> 'р' '.' | 'размер'\n",
              "VALUE -> 'S' | 'M' | 'L' | 'XS'\n"
            ]
          },
          "metadata": {
            "tags": []
          },
          "execution_count": 17
        }
      ]
    },
    {
      "cell_type": "code",
      "metadata": {
        "ExecuteTime": {
          "end_time": "2020-02-12T14:14:27.723857Z",
          "start_time": "2020-02-12T14:14:27.662113Z"
        },
        "id": "4tTPaJMb7_lv",
        "colab_type": "code",
        "colab": {
          "base_uri": "https://localhost:8080/",
          "height": 51
        },
        "outputId": "5fc96f30-2f97-41a4-f9ff-ffba299f3d3a"
      },
      "source": [
        "parser = Parser(\n",
        "    SIZE\n",
        ")\n",
        "text = 'размер M; размер A; размер XS;'\n",
        "for match in parser.findall(text):\n",
        "    print([_.value for _ in match.tokens])"
      ],
      "execution_count": 18,
      "outputs": [
        {
          "output_type": "stream",
          "text": [
            "['размер', 'M']\n",
            "['размер', 'XS']\n"
          ],
          "name": "stdout"
        }
      ]
    },
    {
      "cell_type": "code",
      "metadata": {
        "ExecuteTime": {
          "end_time": "2020-02-12T14:12:19.308726Z",
          "start_time": "2020-02-12T14:12:17.354354Z"
        },
        "id": "dPAyr5R87_lz",
        "colab_type": "code",
        "colab": {}
      },
      "source": [
        "from yargy import Parser, rule, and_, or_, not_\n",
        "from yargy.interpretation import fact, attribute\n",
        "from yargy.predicates import gram, is_capitalized, dictionary, eq\n",
        "import re\n",
        "import pandas as pd\n",
        "from tqdm import tqdm_notebook\n",
        "from gensim import utils"
      ],
      "execution_count": 0,
      "outputs": []
    },
    {
      "cell_type": "code",
      "metadata": {
        "ExecuteTime": {
          "end_time": "2020-02-12T14:12:19.323139Z",
          "start_time": "2020-02-12T14:12:19.310769Z"
        },
        "id": "KzhW1TPH7_l2",
        "colab_type": "code",
        "colab": {}
      },
      "source": [
        "\n",
        "START = rule(\n",
        "    or_(\n",
        "        rule(gram('ADJF')),\n",
        "        rule(gram('NOUN'))\n",
        "    ).optional(),\n",
        "    gram('NOUN')\n",
        ")\n",
        "\n",
        "START_S = or_(\n",
        "    eq('такой'),\n",
        "    eq('такие'),\n",
        ")\n",
        "\n",
        "KAK = eq('как')\n",
        "INCLUDING = or_(\n",
        "    or_(\n",
        "        eq('в'),\n",
        "        eq('том'),\n",
        "        eq('числе'),\n",
        "    ),\n",
        "    eq('включающий'),\n",
        "    or_(\n",
        "        eq('включающий'),\n",
        "        eq('в'),\n",
        "        eq('себя'),\n",
        "    ),\n",
        "    or_(\n",
        "        eq('включающие'),\n",
        "        eq('в'),\n",
        "        eq('себя'),\n",
        "    ),\n",
        "    eq('включающие'),\n",
        "    eq('особенно'),\n",
        "\n",
        ")\n",
        "\n",
        "MID_S = or_(\n",
        "    rule(\n",
        "        or_(\n",
        "            eq('такой'),\n",
        "            eq('такие'),\n",
        "        ),\n",
        "        eq('как')\n",
        "    )\n",
        ")\n",
        "ATAKJE = rule(\n",
        "    eq(','),\n",
        "    eq('а'),\n",
        "    eq('также')\n",
        ")\n",
        "\n",
        "MID = or_(\n",
        "    rule(\n",
        "        eq('это')\n",
        "    ),\n",
        "    rule(\n",
        "        eq('—')\n",
        "    ),\n",
        "    rule(\n",
        "        eq('—'),\n",
        "        eq('это')\n",
        "    ),\n",
        "    rule(\n",
        "        eq('—'),\n",
        "        not_(eq('км'))\n",
        "    ),\n",
        "    rule(\n",
        "        or_(\n",
        "            eq('и'),\n",
        "            eq('или'),\n",
        "        ),\n",
        "        eq('другие')\n",
        "    )\n",
        ")\n",
        "\n",
        "END = or_(\n",
        "    rule(\n",
        "        gram('NOUN'),\n",
        "        gram('NOUN')\n",
        "    ),\n",
        "    rule(\n",
        "        gram('ADJF').repeatable(),\n",
        "        gram('NOUN')\n",
        "    ),\n",
        "    rule(\n",
        "        gram('ADJF'),\n",
        "        gram('ADJF').repeatable(),\n",
        "        gram('NOUN')\n",
        "    ),\n",
        "    rule(\n",
        "        gram('NOUN').repeatable(),\n",
        "        gram('ADJF'),\n",
        "        gram('NOUN').repeatable()\n",
        "    ),\n",
        "    rule(\n",
        "        gram('NOUN').repeatable()\n",
        "    )\n",
        ")\n",
        "\n",
        "Item = fact(\n",
        "    'Item',\n",
        "    [attribute('titles').repeatable()]\n",
        ")\n",
        "\n",
        "\n",
        "IGNORE = rule(\n",
        "    '(',\n",
        "    not_(eq(')')).repeatable(),\n",
        "    ')'\n",
        ")\n",
        "\n",
        "ITEM = rule(\n",
        "    IGNORE.interpretation(\n",
        "        Item.titles\n",
        "    ),\n",
        "    eq(',').optional() \n",
        ").repeatable().interpretation(\n",
        "    Item\n",
        ")"
      ],
      "execution_count": 0,
      "outputs": []
    },
    {
      "cell_type": "code",
      "metadata": {
        "ExecuteTime": {
          "end_time": "2020-02-12T14:12:19.434702Z",
          "start_time": "2020-02-12T14:12:19.324707Z"
        },
        "id": "FMPuuLzS7_l7",
        "colab_type": "code",
        "colab": {}
      },
      "source": [
        "def get_hyperonyms(main_word):\n",
        "    HYPONYM = eq(utils.deaccent(main_word))\n",
        "    RULE = or_(\n",
        "        rule(HYPONYM, ATAKJE, START, MID, END),\n",
        "        rule(HYPONYM, MID, END),\n",
        "        rule(START_S, END, KAK, HYPONYM),\n",
        "        rule(END, INCLUDING, HYPONYM)\n",
        "    )\n",
        "    parser = Parser(RULE) \n",
        "    text = utils.deaccent(wikipedia.summary(main_word))\n",
        "    print(text)\n",
        "    text = re.sub(r'\\(.+?\\)', '', text)\n",
        "    text = text.lower().replace('* сергии радонежскии* ', '')\n",
        "    for idx, match in enumerate(parser.findall(text.lower())):\n",
        "        k = [_.value for _ in match.tokens]\n",
        "        print(k)"
      ],
      "execution_count": 0,
      "outputs": []
    },
    {
      "cell_type": "code",
      "metadata": {
        "ExecuteTime": {
          "end_time": "2020-02-12T14:12:22.648500Z",
          "start_time": "2020-02-12T14:12:19.437840Z"
        },
        "id": "uREpT3xW7_l_",
        "colab_type": "code",
        "colab": {
          "base_uri": "https://localhost:8080/",
          "height": 122
        },
        "outputId": "37cbd727-73a1-47ba-ddde-1a6c490205be"
      },
      "source": [
        "get_hyperonyms(\"банан\")"
      ],
      "execution_count": 22,
      "outputs": [
        {
          "output_type": "stream",
          "text": [
            "Банан — название съедобных плодов культивируемых растении рода Банан (Musa); обычно под таковыми понимают Musa acuminata и Musa × paradisiaca, а также Musa balbisiana, Musa fehi, Musa troglodytarum и ряд других. Также бананами могут называть плоды Ensete ventricosum (строго говоря, являющегося представителем другого рода семеиства Банановые). С ботаническои точки зрения банан является ягодои, многосеменнои и толстокожеи. У культурных форм часто отсутствуют семена, ненужные при вегетативном размножении. Плоды имеют длину 6—30 см и диаметр 2—5 см. Соплодия могут состоять из 300 плодов и иметь массу до 50—60 кг.\n",
            "Бананы — одна из древнеиших пищевых культур, а для тропических стран важнеишее пищевое растение и главная статья экспорта. Спелые бананы широко употребляются в пищу по всему миру, их используют при приготовлении большого количества блюд. Помимо употребления в свежем виде, в кухне некоторых народов бананы могут зажариваться, или вариться как в очищенном, так и в неочищенном виде. Их также сушат, консервируют, используют для приготовления банановои муки, мармелада, сиропов, вин. Бананы применяются также в качестве корма для скота. Запах бананов определяют изовалерианово-изоамиловыи и уксусно-изоамиловыи эфиры. Выращиваются в тропических и субтропических раионах с жарким влажным климатом. Существует большое число сортов съедобных видов банана.\n",
            "Размер, цвет и форма могут значительно различаться в зависимости от вида или сорта, но чаще всего они имеют продолговатую цилиндрическую или трехгранную форму, выпрямленную либо закругленную. Длина плода варьирует в пределах от 3 до 40 см, толщина — от 2 до 8 см. Цвет кожицы может быть желтым, зеленым, красным или даже серебристым. Мякоть белая, кремовая, желтая или оранжевая. В незрелом состоянии она твердая и клеикая, но по мере созревания становится мягкои и сочнои.\n",
            "Во многих странах бананы являются одним из основных источников питания — например, только в Эквадоре годовое потребление этого продукта составляет 73,8 кг на душу населения (для сравнения, в России этот показатель равен 7,29 кг). Существенную долю потребления бананы также составляют в Бурунди (189,4 кг), Самоа (85,0 кг), Коморских Островах (77,8 кг) и на Филиппинах (40,6 кг).\n",
            "['банан', '—', 'название', 'съедобных', 'плодов']\n"
          ],
          "name": "stdout"
        }
      ]
    },
    {
      "cell_type": "markdown",
      "metadata": {
        "id": "xis7Y3_E7_mD",
        "colab_type": "text"
      },
      "source": [
        "#### Task 1 (deadline 19.02.2020 24:00)\n",
        "* Find your name on the spreadsheet https://docs.google.com/spreadsheets/d/1RR2I6toCkebbGU1UK83HS70Ru_l0_o-nnZIHyiFB0No/edit?usp=sharing. In opposite of your name there are 24 words of hyponyms, you have to insert five corresponding hypernyms next to them. Examples of hyponyms and hyperonyms relationship you can find above in the current Jupiter notebook.\n",
        "* Find for each pair of hyponyms and hypernyms a corresponding snippet of a text with their mentions. The source of the text can be any free resources, e.g., Wikipedia, Google, Yandex, others. You should save the snippets and their URLs within the lab2 folder in your NLP git-repo with .csv file-extension in a single file.\n",
        "\n",
        "#### Task 2 (deadline 26.02.2020 24:00)\n",
        "* It would be best if you created a pandas DataFrame of the texts from the previous task. And apply to the DataFrame the function 'get_hyperonyms,' which must return the list of the corresponding hypernyms from the text automatically. If there are errors or misses, you should fix them in the code for your case of the 24 words. Nevertheless, it is strictly prohibited to use hard coding. Save your notebook with parser code within the lab2 folder in your NLP git-repo."
      ]
    },
    {
      "cell_type": "code",
      "metadata": {
        "id": "HBqt_Xnk7_mE",
        "colab_type": "code",
        "colab": {
          "base_uri": "https://localhost:8080/",
          "height": 204
        },
        "outputId": "6c39f138-0db0-4bfe-b856-bac45955b714"
      },
      "source": [
        "homework_data = pd.read_excel('words.xlsx', sheet_name='Sheet1')\n",
        "\n",
        "homework_data.head()"
      ],
      "execution_count": 23,
      "outputs": [
        {
          "output_type": "execute_result",
          "data": {
            "text/html": [
              "<div>\n",
              "<style scoped>\n",
              "    .dataframe tbody tr th:only-of-type {\n",
              "        vertical-align: middle;\n",
              "    }\n",
              "\n",
              "    .dataframe tbody tr th {\n",
              "        vertical-align: top;\n",
              "    }\n",
              "\n",
              "    .dataframe thead th {\n",
              "        text-align: right;\n",
              "    }\n",
              "</style>\n",
              "<table border=\"1\" class=\"dataframe\">\n",
              "  <thead>\n",
              "    <tr style=\"text-align: right;\">\n",
              "      <th></th>\n",
              "      <th>HYPONYM</th>\n",
              "    </tr>\n",
              "  </thead>\n",
              "  <tbody>\n",
              "    <tr>\n",
              "      <th>0</th>\n",
              "      <td>БАРАБАШКА</td>\n",
              "    </tr>\n",
              "    <tr>\n",
              "      <th>1</th>\n",
              "      <td>БАРБАРИС</td>\n",
              "    </tr>\n",
              "    <tr>\n",
              "      <th>2</th>\n",
              "      <td>БАРДА</td>\n",
              "    </tr>\n",
              "    <tr>\n",
              "      <th>3</th>\n",
              "      <td>БАРК</td>\n",
              "    </tr>\n",
              "    <tr>\n",
              "      <th>4</th>\n",
              "      <td>БАРРАКУДА</td>\n",
              "    </tr>\n",
              "  </tbody>\n",
              "</table>\n",
              "</div>"
            ],
            "text/plain": [
              "     HYPONYM\n",
              "0  БАРАБАШКА\n",
              "1   БАРБАРИС\n",
              "2      БАРДА\n",
              "3       БАРК\n",
              "4  БАРРАКУДА"
            ]
          },
          "metadata": {
            "tags": []
          },
          "execution_count": 23
        }
      ]
    },
    {
      "cell_type": "code",
      "metadata": {
        "id": "tFNiektD_GdR",
        "colab_type": "code",
        "colab": {
          "base_uri": "https://localhost:8080/",
          "height": 1000
        },
        "outputId": "7b9d3419-2cfb-4694-e114-b88aa33cad1e"
      },
      "source": [
        "\n",
        "print('Гиперонимы для слова: ', 'БАРБАРИС')\n",
        "print('\\n')\n",
        "get_hyperonyms('БАРБАРИС')\n",
        "print('\\n\\n')\n",
        "\n",
        "print('Гиперонимы для слова: ', 'БАРК')\n",
        "print('\\n')\n",
        "get_hyperonyms('БАРК')\n",
        "print('\\n\\n')\n",
        "\n",
        "print('Гиперонимы для слова: ', 'БАРРАКУДА')\n",
        "print('\\n')\n",
        "get_hyperonyms('БАРРАКУДА')\n",
        "print('\\n\\n')\n",
        "\n",
        "print('Гиперонимы для слова: ', 'БАРРИСТЕР')\n",
        "print('\\n')\n",
        "get_hyperonyms('БАРРИСТЕР')\n",
        "print('\\n\\n')\n",
        "\n",
        "\n",
        "print('Гиперонимы для слова: ', 'БАРСУК')\n",
        "print('\\n')\n",
        "get_hyperonyms('БАРСУК')\n",
        "print('\\n\\n')\n",
        "\n",
        "print('Гиперонимы для слова: ', 'БАРХАТЦЫ')\n",
        "print('\\n')\n",
        "get_hyperonyms('БАРХАТЦЫ')\n",
        "print('\\n\\n')\n",
        "\n",
        "print('Гиперонимы для слова: ', 'БАСНОПИСЕЦ')\n",
        "print('\\n')\n",
        "get_hyperonyms('БАСНОПИСЕЦ')\n",
        "print('\\n\\n')\n",
        "\n",
        "print('Гиперонимы для слова: ', 'БАТИСТ')\n",
        "print('\\n')\n",
        "get_hyperonyms('БАТИСТ')\n",
        "print('\\n\\n')\n",
        "\n",
        "\n",
        "print('Гиперонимы для слова: ', 'БАТМАН')\n",
        "print('\\n')\n",
        "get_hyperonyms('БАТМАН')\n",
        "print('\\n\\n')\n",
        "\n",
        "print('Гиперонимы для слова: ', 'БАХЧЕВОД')\n",
        "print('\\n')\n",
        "get_hyperonyms('БАХЧЕВОД')\n",
        "print('\\n\\n')\n",
        "\n",
        "print('Гиперонимы для слова: ', 'БАЯДЕРА')\n",
        "print('\\n')\n",
        "get_hyperonyms('БАЯДЕРА')\n",
        "print('\\n\\n')\n",
        "\n",
        "print('Гиперонимы для слова: ', 'БЕГОНИЯ')\n",
        "print('\\n')\n",
        "get_hyperonyms('БЕГОНИЯ')\n",
        "print('\\n\\n')\n",
        "\n",
        "print('Гиперонимы для слова: ', 'БЕЗОТЦОВЩИНА')\n",
        "print('\\n')\n",
        "get_hyperonyms('БЕЗОТЦОВЩИНА')\n",
        "print('\\n\\n')\n",
        "\n",
        "print('Гиперонимы для слова: ', 'БЕЗРУКАВКА')\n",
        "print('\\n')\n",
        "get_hyperonyms('БЕЗРУКАВКА')\n",
        "print('\\n\\n')\n",
        "\n",
        "print('Гиперонимы для слова: ', 'БЕКАС')\n",
        "print('\\n')\n",
        "get_hyperonyms('БЕКАС')\n",
        "print('\\n\\n')\n",
        "\n",
        "print('Гиперонимы для слова: ', 'БЕЛЕК')\n",
        "print('\\n')\n",
        "get_hyperonyms('БЕЛЕК')\n",
        "print('\\n\\n')\n",
        "\n",
        "print('Гиперонимы для слова: ', 'БЕЛЛАДОННА')\n",
        "print('\\n')\n",
        "get_hyperonyms('БЕЛЛАДОННА')\n",
        "print('\\n\\n')\n",
        "\n",
        "print('Гиперонимы для слова: ', 'БЕЛОРУЧКА')\n",
        "print('\\n')\n",
        "get_hyperonyms('БЕЛОРУЧКА')\n",
        "print('\\n\\n')\n",
        "\n",
        "print('Гиперонимы для слова: ', 'БЕЛОРЫБИЦА')\n",
        "print('\\n')\n",
        "get_hyperonyms('БЕЛОРЫБИЦА')\n",
        "print('\\n\\n')"
      ],
      "execution_count": 60,
      "outputs": [
        {
          "output_type": "stream",
          "text": [
            "Гиперонимы для слова:  БАРБАРИС\n",
            "\n",
            "\n",
            "Барбарис (лат. Berberis) — крупныи род кустарников, реже деревьев, семеиства Барбарисовые (Berberidaceae).\n",
            "\n",
            "\n",
            "\n",
            "\n",
            "\n",
            "Гиперонимы для слова:  БАРК\n",
            "\n",
            "\n",
            "Барк (нидерл. bark) — большое парусное судно с прямыми парусами на всех мачтах, кроме кормовои (бизань-мачты), несущеи косое парусное вооружение. Иными словами, все мачты барка, за исключением последнеи, из поперечного рангоута имеют только реи, тогда как последняя мачта реи не имеет. Число мачт барка — три и более (двухмачтовые парусники подобного вооружения называются бригантинами).\n",
            "\n",
            "\n",
            "\n",
            "Гиперонимы для слова:  БАРРАКУДА\n",
            "\n",
            "\n",
            "Барракуды (лат. Sphyraena) — род морских лучеперых рыб из отряда скумбриеобразных, выделяемыи в монотипическое семеиство барракудовых (Sphyraenidae). В состав рода включают 28 современных видов.\n",
            "\n",
            "\n",
            "\n",
            "Гиперонимы для слова:  БАРРИСТЕР\n",
            "\n",
            "\n",
            "Барристер (англ. barrister) — категория адвокатов в Великобритании и странах Содружества, которые ведут дела. Барристеры — адвокаты более высокого ранга, чем солиситоры.\n",
            "Наличие двух категории адвокатов не соответствует современнои мировои практике и объясняется в основном историческими причинами, консерватизмом англиискои судебнои системы, сложностью ведения судебных дел в странах англосаксонскои системы права (необходимостью применения значительного количества судебных прецедентов и отсутствием строгои системы правовых актов), а также нежеланием барристеров терять привилегированное положение и связанные с этим материальные выгоды.\n",
            "В Великобритании насчитывается около 11 500 барристеров (из них 70 % работают в Лондоне). Каждыи барристер в этои стране должен вступить в одну из четырех юридических корпорации, или палат — Линкольнс-Инн, Греис-инн, Миддл-Тэмпл либо Иннер-Тэмпл.\n",
            "\n",
            "\n",
            "\n",
            "Гиперонимы для слова:  БАРСУК\n",
            "\n",
            "\n",
            "Барсук, или обыкновенныи барсук (лат. Meles meles) — вид млекопитающих из рода барсуков семеиства куньих.\n",
            "\n",
            "\n",
            "\n",
            "Гиперонимы для слова:  БАРХАТЦЫ\n",
            "\n",
            "\n",
            "Бархатцы (лат. Tagetes) — род однолетних и многолетних растении семеиства Астровые, или Сложноцветные.\n",
            "Латинское название дал в 1753 году Карл Линнеи, название образовано от имени этрусского божества Тагеса, родившегося из борозды. Скорее всего, это название дано из-за легкости, с которои растения этого рода появляются каждыи год либо из семян, произведенными в предыдущем году, либо из отростка стебля.\n",
            "Происходят из Америки, где дико произрастают от Нью-Мексико и Аризоны до Аргентины, и откуда в XVI веке были завезены конкистадорами в Испанию, а затем распространились по Европе, России, Малои Азии и так далее.\n",
            "На Украине называются укр. «чорнобривці», в Беларуси — белор. «аксаміткі», в Англии — англ. «marigolds» (золото Мэри), в Германии — «студенческии цветок» или «турецкая гвоздика».\n",
            "Один вид, Tagetes minuta, в некоторых раионах считается инвазивным растением.\n",
            "\n",
            "\n",
            "\n",
            "Гиперонимы для слова:  БАСНОПИСЕЦ\n",
            "\n",
            "\n",
            "Басня — жанр дидактическои литературы: короткии рассказ в стихах или прозе с прямо сформулированным моральным выводом, придающим рассказу аллегорическии смысл. В конце или в начале басни содержится\n",
            "краткое нравоучительное заключение — так называемая мораль. Деиствующими лицами обычно выступают животные, растения, вещи. В басне высмеиваются пороки людеи.\n",
            "Басня — один из древнеиших литературных жанров. В Древнеи Греции был знаменит Эзоп (VI—V века до нашеи эры), писавшии басни в прозе. В Риме — Федр (I век нашеи эры). В Индии сборник басен «Панчатантра» относится к III веку. Виднеишим баснописцем нового времени был французскии поэт Жан Лафонтен (XVII век).\n",
            "В России развитие жанра басни относится к середине XVIII — началу XIX веков и связано с именами А. П. Сумарокова, И. И. Хемницера, А. Е. Измаилова, И. И. Дмитриева, хотя первые опыты стихотворных басен были еще в XVII веке у Симеона Полоцкого и в первои половине XVIII века у А. Д. Кантемира, В. К. Тредиаковского. В русскои поэзии вырабатывается басенныи вольныи стих, передающии интонации непринужденного и лукавого сказа.\n",
            "Басни И. А. Крылова с их реалистическои живостью, здравомысленным юмором и превосходным языком знаменовали расцвет этого жанра в России. В советское время приобрели популярность басни Демьяна Бедного, Сергея Михалкова и другие.\n",
            "\n",
            "\n",
            "\n",
            "Гиперонимы для слова:  БАТИСТ\n",
            "\n",
            "\n",
            "Батист (из фр. batiste) — тонкая, полупрозрачная льняная или хлопчатобумажная ткань полотняного переплетения, вырабатываемая из крученои пряжи высоких номеров (наиболее тонкои). Батист выпускается отбеленным, мерсеризованным, гладкокрашеным и набивным. Употребляется для производства женского белья, летних платьев, блузок, а также как полуфабрикат для изготовления кальки.\n",
            "Производиться преимущественно в Севернои Франции и Бельгии, из самои тонкои льнянои пряжи. Сама культура льна обставляется при этом особыми заботами, а именно: все засеянное поле набивается колышками с поперечными перекладинками так, что образуется сетка, которая, защищая растение от деиствия сильного ветра и дождя, способствует образованию особенно тонкого и крепкого волокна — так называемого lin ram o.\n",
            "Лучшии батист из окрестностеи Валансьена и Камбре делается из ниток ручнои пряжи, так как фабричныи не имеет того лоска, которыи составляет одно из главных качеств хорошего батиста; он может быть также и бумажным, — значительно уступающии льняному в крепости.\n",
            "Считается, что изготовление батиста впервые начато в XIII веке во Фландрии неким г-ном Батистом из Камбре, по имени которого, согласно однои из гипотез, и сама ткань получила название во французском, русском и ряде других языков (в некоторых языках, включая англиискии, название ткани восходит к топониму Камбре — cambric).\n",
            "\n",
            "\n",
            "\n",
            "Гиперонимы для слова:  БАТМАН\n",
            "\n",
            "\n",
            "Батман (фр. battement — взмах, удар от гл. battre — махать, взмахивать, ударять, отбивать такт) — движение классического танца, представляющее из себя какое-либо отведение, приведение или сгибание однои, работающеи ноги стоя на всеи стопе или на полупальцах (пальцах) другои, опорнои — вытянутои или согнутои в колене, а также с одновременным выполнением приседания, подъема на полупальцы (пальцы) либо опускания на всю стопу.\n",
            "Батман — общее наименование для всеи группы движении; конкретизация достигается при помощи добавления прилагательного (tendu — вытянутыи, pique — колющии, fondu — тающии, grand — большои, petit — маленькии и т. д.). Совокупность этих движении — необходимыи элемент для совершенствования техники классического танца: с помощью батманов отрабатывается умение правильно отводить ногу и приводить ее обратно в позицию, сгибать и разгибать ее, вытягивать и поднимать на любую высоту в каком-либо направлении и с любои скоростью. Регулярное выполнение движении этои группы способствует выработке выворотности, устоичивости, мышечнои силы, умения управлять отдельными группами мышц.\n",
            "Батманы являются неотъемлемои частью экзерсиса. Из них состоит практически весь урок классического танца (за исключением плие, рондов, вращении, различных па и прыжков). Все батманы выполняются в определеннои последовательности как у палки, так и на середине зала — от простых движении до все более сложных, с нарастающеи амплитудои выполнения.\n",
            "Условно их можно разделить на три вида:\n",
            "\n",
            "Батманы, выполняющиеся из I или из V позиции отведением ноги вперед, в сторону или назад:battement tendu, battement tendu jete, grand battement jete, battements releve lent\n",
            "\n",
            "Батманы, выполняющиеся из V позиции через проходящее положение sur le cou-de-pied (passe):battement retire, battement soutenu, battement developpe\n",
            "\n",
            "Батманы, выполняющиеся с воздушнои позиции (работающая нога открыта вперед, в сторону или назад):battement pour batterie, battement pique, battements frappe, battement fondu, battement raccourci (enveloppe), petit battement sur le cou-de-pied, petit battement battu.\n",
            "\n",
            "Даже самыи простои battement надо выполнять на уроке художественно, то есть пластически осмысленно, музыкально, с пониманием и чувством учебно—технических и исполнительских задач.\n",
            "\n",
            "\n",
            "\n",
            "Гиперонимы для слова:  БАХЧЕВОД\n",
            "\n",
            "\n",
            "Дыня (лат. Cucumis melo) — растение семеиства Тыквенные (Cucurbitaceae), вид рода Огурец (Cucumis), бахчевая культура.\n",
            "Родинои дыни считается Средняя Азия и Малая Азия. Дыня — тепло- и светолюбивое растение, устоичивое к засолению почвы и засухе, плохо переносит повышенную влажность воздуха. На одном растении в зависимости от сорта и места возделывания может сформироваться от двух до восьми плодов, массои от 1,5 до 10 кг. Плод дыни — тыквина — имеет шаровидную или цилиндрическую форму, зеленои, желтои, коричневои или белои окраски, как правило с зелеными полосками. Период вызревания — от двух до шести месяцев.\n",
            "\n",
            "\n",
            "\n",
            "Гиперонимы для слова:  БАЯДЕРА\n",
            "\n",
            "\n",
            "«Баядера» (нем. Die Bajadere, от фр. bayadere «индииская танцовщица», баядерка) — оперетта в трех актах венгерского композитора Имре Кальмана. Либретто написали Юлиус Браммер и Альфред Грюнвальд. С этои оперетты началось их плодотворное сотрудничество с Кальманом, совместно они выпустили в свет пять оперетт. Премьера оперетты состоялась в венском Карл-театре 13 декабря 1921 года. Оперетта имела большои успех и обошла многие музыкальные театры мира.\n",
            "В СССР «Баядера» была впервые поставлена в марте 1923 года Московским театром оперетты под названием «Баядерка». Распространенныи в наши дни русскии вариант либретто написали Р. И. Тихомиров и С. Б. Фогельсон.\n",
            "Музыка оперетты сочетает восточные мотивы с современными автору танцевальными мелодиями (фокстрот, тустеп, шимми, вальс-бостон, джаз). Венгерская мелодика, характерная для более ранних оперетт Кальмана, почти не просматривается.\n",
            "\n",
            "\n",
            "\n",
            "Гиперонимы для слова:  БЕГОНИЯ\n",
            "\n",
            "\n",
            "Бегония (лат. Begonia) — род растении семеиства Бегониевые. Род включает около 1600 видов.\n",
            "\n",
            "\n",
            "\n",
            "Гиперонимы для слова:  БЕЗОТЦОВЩИНА\n",
            "\n",
            "\n",
            "«Безотцовщина» (также известна под названиями «Пьеса без названия» и «Платонов») — первая пьеса Антона Павловича Чехова, написанная им в 18-летнем возрасте (во время учебы в гимназии). Состоит из четырех деиствии.\n",
            "Пьеса обнаружена и опубликована через 19 лет после смерти автора. Название пьесы восстановлено по письму Александра Чехова от 14 октября 1878 года. Большинство постановок прошло с названием «Платонов».\n",
            "Ввиду большои протяженности текста (ок. 170 страниц) и обилия деиствующих лиц, пьеса чаще всего ставится с купюрами. В 1970-х годах Александр Адабашьян и Никита Михалков предложили свои вариант текста пьесы, созданныи специально для фильма «Неоконченная пьеса для механического пианино», а потом и поставленныи Михалковым на сцене (в Риме, с Марчелло Мастроянни в главнои роли). В 1984 году Маикл Фреин предложил авторскую англоязычную адаптацию пьесы — под названием «Дикии мед» (Wild Honey).\n",
            "\n",
            "\n",
            "\n",
            "Гиперонимы для слова:  БЕЗРУКАВКА\n",
            "\n",
            "\n",
            "Безрукавка (известна как «танк топ» в Великобритании, «свитер жилет» в Севернои Америке и «лэнгдон» в северо-восточнои части США) — трикотажныи пуловер без рукавов. Они были популярны в XX веке, в частности, в 1970-х годах в Великобритании. Они также популярны среди любителеи спорта, которые зачастую носят их во время игры гольф.\n",
            "\n",
            "\n",
            "\n",
            "Гиперонимы для слова:  БЕКАС\n",
            "\n",
            "\n",
            "Бекас (лат. Gallinago gallinago) — небольшая птица с очень длинным, прямым и острым клювом. Небольшои кулик размером примерно с большого пестрого дятла. Длина тела около 26 см, масса 80—180 г, размах крыльев 40—45 см.\n",
            "\n",
            "\n",
            "\n",
            "Гиперонимы для слова:  БЕЛЕК\n",
            "\n",
            "\n",
            "Белек (тур. Belek) — город-курорт в Турции, расположенныи в провинции Анталья на берегу Средиземного моря.\n",
            "Белек — один из молодых курортов в Турецкои Республике. Начало развития инфраструктуры туризма и отдыха было положено в 1984 году. Благодаря своему географическому положению город Белек позволяет совершать экскурсии к достопримечательностям всеи провинции Антальи. Одним из аспектов развития города является популяризация игры в гольф. Белек — один из гольф-центров. В Белеке расположено множество футбольных полеи. В зимнее время для тренировок на этих полях в Белек приезжают футбольные команды из Европы и Азии.\n",
            "\n",
            "\n",
            "\n",
            "Гиперонимы для слова:  БЕЛЛАДОННА\n",
            "\n",
            "\n",
            "Белладонна, или красавка обыкновенная, или красуха, или сонная одурь, или бешеная ягода, или вишня бешеная, или белладонна европеиская, или белладонна обыкновенная, или красавка белладонна (лат. Atropa belladonna) — многолетнее травянистое растение, вид рода красавка (Atropa) семеиства пасленовые (Solanaceae).\n",
            "Видовое название «belladonna» (белладонна) происходит от итальянских слов и в переводе на русскии язык означает «красивая женщина». В старину итальянские дамы закапывали сок красавки в глаза, зрачки расширялись — и в глазах появлялся особыи блеск. Кроме этого, ягодами натирали щеки, чтобы те приобрели «естественныи» румянец. На Руси это растение издавна было известно как «красавка». Другое название, «бешеница», обусловлено тем, что входящии в состав растения атропин может вызвать у человека холинолитическии делирии, сопровождающиися сильным возбуждением, доходящим до бешенства и агрессии.\n",
            "\n",
            "\n",
            "\n",
            "Гиперонимы для слова:  БЕЛОРУЧКА\n",
            "\n",
            "\n",
            "Сэр Гарет Белоручка (Gareth Beaumains, транскрипция «Бомеин»), известныи также под титулом «Рыцарь Кухни» — рыцарь Круглого Стола, персонаж легенд о Короле Артуре. Гарет — племянник Артура, сын Оркнеиского короля Лота и сестры Артура Моргаузы, младшии брат Гавеина, Гахериса, Агравеина и в некоторых версиях мифа — Мордреда.\n",
            "\n",
            "\n",
            "\n",
            "Гиперонимы для слова:  БЕЛОРЫБИЦА\n",
            "\n",
            "\n",
            "Белорыбица, или нельма (лат. Stenodus leucichthys) — полупроходнои вид рыб подсемеиства сиговых семеиства лососевых (Salmonidae).\n",
            "В данном виде выделяют два подвида: белорыбица (Stenodus leucichthys leucichthys Guldenstadt, 1772) и нельма (Stenodus leucichthys nelma Pallas, 1773).\n",
            "Белорыбица является эндемиком бассеина Каспииского моря.\n",
            "Достигает длины 130 см и веса 14 кг. Половои диморфизм выражен слабо, самец по величине уступает самке. Нижняя челюсть несколько длиннее верхнеи; верхняя доходит до вертикали переднего края глаза. Тело удлиненное, сжатое с боков. Цвет брюха и боков серебристыи, спина буровато-голубая, спиннои и хвостовои плавники буровато-серые, остальные серые.\n",
            "\n",
            "\n",
            "\n"
          ],
          "name": "stdout"
        }
      ]
    }
  ]
}